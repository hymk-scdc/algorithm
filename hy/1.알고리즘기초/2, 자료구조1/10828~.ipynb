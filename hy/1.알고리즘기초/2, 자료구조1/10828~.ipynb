{
 "cells": [
  {
   "cell_type": "markdown",
   "source": [
    "# 10828 시간 초과"
   ],
   "metadata": {}
  },
  {
   "cell_type": "code",
   "execution_count": 5,
   "source": [
    "# 10828\r\n",
    "N = int(input())\r\n",
    "stack = []\r\n",
    "\r\n",
    "for i in range(N) : \r\n",
    "    cn = input().split()\r\n",
    "    c = cn[0]\r\n",
    "    try : \r\n",
    "        n = cn[1]\r\n",
    "    except : pass \r\n",
    "    if c == 'push' : \r\n",
    "        stack.append(n)\r\n",
    "    elif c == 'pop' : \r\n",
    "        try : print(stack.pop())\r\n",
    "        except : print(-1)\r\n",
    "    elif c == 'size' : \r\n",
    "        print(len(stack))\r\n",
    "    elif c == 'empty' : \r\n",
    "        if len(stack) == 0 : \r\n",
    "            print(1)\r\n",
    "        else : print(0)\r\n",
    "    elif c == 'top' : \r\n",
    "        try : print(stack[-1])\r\n",
    "        except : print(-1)"
   ],
   "outputs": [
    {
     "output_type": "stream",
     "name": "stdout",
     "text": [
      "-1\n",
      "-1\n",
      "123\n",
      "123\n",
      "-1\n",
      "-1\n"
     ]
    }
   ],
   "metadata": {}
  },
  {
   "cell_type": "code",
   "execution_count": null,
   "source": [
    "import sys\r\n",
    "\r\n",
    "N = int(sys.stdin.readline())\r\n",
    "stack = []\r\n",
    "\r\n",
    "def push(x) : \r\n",
    "    stack.append(x)\r\n",
    "\r\n",
    "def pop() : \r\n",
    "    try : print(stack.pop())\r\n",
    "    except : print(-1)\r\n",
    "\r\n",
    "def size() : \r\n",
    "    print(len(stack))\r\n",
    "\r\n",
    "def empty() : \r\n",
    "    if len(stack) == 0 : # 빈 리스트 이면, \r\n",
    "        print(1)\r\n",
    "    else : \r\n",
    "        print(2)\r\n",
    "\r\n",
    "def top() : \r\n",
    "    try : \r\n",
    "        print(stack[-1])\r\n",
    "    except : \r\n",
    "        print(-1)\r\n",
    "\r\n",
    "  \r\n",
    "for i in range(N) : \r\n",
    "    command = sys.stdin.readline().split()\r\n",
    "    if command[0] == 'push' : \r\n",
    "        push(command[1])\r\n",
    "    elif command[0] == 'pop' : \r\n",
    "        pop()\r\n",
    "    elif command[0] == 'size' : \r\n",
    "        size()\r\n",
    "    elif command[0] == 'empty' : \r\n",
    "        empty()\r\n",
    "    else : \r\n",
    "        top()"
   ],
   "outputs": [],
   "metadata": {}
  },
  {
   "cell_type": "code",
   "execution_count": 8,
   "source": [
    "# 9012 괄호 \r\n",
    "\r\n",
    "N = int(input())\r\n",
    "\r\n",
    "for i in range(N) : \r\n",
    "    ss = list(input())\r\n",
    "    a = 0\r\n",
    "    for s in ss : \r\n",
    "        if s == '(' : \r\n",
    "            a += 1 \r\n",
    "        else : \r\n",
    "            a -= 1\r\n",
    "        if a <0 : \r\n",
    "            break \r\n",
    "    if a == 0 : \r\n",
    "        print('YES')\r\n",
    "    else : \r\n",
    "        print('NO')"
   ],
   "outputs": [
    {
     "output_type": "stream",
     "name": "stdout",
     "text": [
      "NO\n",
      "NO\n",
      "NO\n"
     ]
    }
   ],
   "metadata": {}
  },
  {
   "cell_type": "markdown",
   "source": [
    "# 10799 쇠막대기 \r\n",
    " stack 구조 어렵다"
   ],
   "metadata": {}
  },
  {
   "cell_type": "code",
   "execution_count": null,
   "source": [
    "# 10799 쇠막대기 \r\n",
    " \r\n",
    "bar_razor= input()\r\n",
    "\r\n",
    "result = 0 \r\n",
    "stack = []\r\n",
    "for i in range(len(bar_razor)) : \r\n",
    "    if bar_razor[i] == '(' : \r\n",
    "        stack.append('(')\r\n",
    "    else : \r\n",
    "        if bar_razor[i-1] == '(' : \r\n",
    "            stack.pop()\r\n",
    "            result += len(stack)\r\n",
    "        else : \r\n",
    "            stack.pop()\r\n",
    "            result +=1 \r\n",
    "print(result)\r\n"
   ],
   "outputs": [],
   "metadata": {}
  },
  {
   "cell_type": "markdown",
   "source": [
    "# 1406 에디터 시간초과"
   ],
   "metadata": {}
  },
  {
   "cell_type": "code",
   "execution_count": 6,
   "source": [
    "# 1406  에디터 \r\n",
    "\r\n",
    "word = list(input())\r\n",
    "n = int(input())\r\n",
    "\r\n",
    "c = len(word) -1 \r\n",
    "\r\n",
    "\r\n",
    "for i in range(n) : \r\n",
    "    command = input().split()\r\n",
    "    if command[0] == 'L' : \r\n",
    "        c -= 1\r\n",
    "        if c < -1 : \r\n",
    "            c = -1 \r\n",
    "    elif command[0] == 'D' : \r\n",
    "        c += 1 \r\n",
    "        if c >= len(word) : \r\n",
    "            c = len(word)-1\r\n",
    "    elif command[0] == 'B' : \r\n",
    "        if c == -1 : \r\n",
    "            pass \r\n",
    "        else : \r\n",
    "            del word[c]\r\n",
    "            c -= 1 \r\n",
    "    else : \r\n",
    "        c += 1 \r\n",
    "        word.insert(c, command[1])\r\n",
    "print(''.join(word))\r\n",
    "\r\n",
    "\r\n"
   ],
   "outputs": [
    {
     "output_type": "stream",
     "name": "stdout",
     "text": [
      "yxabc\n"
     ]
    }
   ],
   "metadata": {}
  },
  {
   "cell_type": "code",
   "execution_count": 2,
   "source": [
    "# 1406  에디터 \r\n",
    "\r\n",
    "import sys\r\n",
    "word = list(input())\r\n",
    "# word = list(sys.stdin.readline())\r\n",
    "\r\n",
    "n = int(input())\r\n",
    "# n = int(sys.stdin.readline())\r\n",
    "\r\n",
    "editor = len(word)-1 \r\n",
    "\r\n",
    "def commandL() :\r\n",
    "    global editor\r\n",
    "    editor -= 1 \r\n",
    "    if editor < -1 : \r\n",
    "        editor = -1 \r\n",
    "\r\n",
    "def commandD() : \r\n",
    "    global editor\r\n",
    "    editor += 1 \r\n",
    "    if editor >= len(word) : \r\n",
    "        editor = len(word) - 1 \r\n",
    "\r\n",
    "def commandB() : \r\n",
    "    global editor\r\n",
    "    if editor == -1 : \r\n",
    "        pass \r\n",
    "    else : \r\n",
    "        del word[editor]\r\n",
    "        editor -= 1 \r\n",
    "\r\n",
    "def commandP() : \r\n",
    "    global editor\r\n",
    "    editor += 1 \r\n",
    "    word.insert(editor, command[1])\r\n",
    "\r\n",
    "for i in range(n) : \r\n",
    "    # command = sys.stdin.readline().split()\r\n",
    "    command = input().split()\r\n",
    "\r\n",
    "    if command[0] == 'L' : \r\n",
    "        commandL()\r\n",
    "    elif command[0] == 'D' : \r\n",
    "        commandD()\r\n",
    "    elif command[0] == 'B' : \r\n",
    "        commandB()\r\n",
    "    else : \r\n",
    "        commandP()\r\n",
    "\r\n",
    "print(''.join(word))\r\n"
   ],
   "outputs": [
    {
     "output_type": "stream",
     "name": "stdout",
     "text": [
      "yxabc\n"
     ]
    }
   ],
   "metadata": {}
  },
  {
   "cell_type": "markdown",
   "source": [
    "## ???? 왜 이거는 안되는데 ...\r\n",
    "심지어 이거는 시간초과도 아니고 아예 틀렸다고 나옴 "
   ],
   "metadata": {}
  },
  {
   "cell_type": "code",
   "execution_count": 8,
   "source": [
    "import sys \r\n",
    "\r\n",
    "# s1 = list(sys.stdin.readline().strip())\r\n",
    "s1 = list(input())\r\n",
    "s2 = []\r\n",
    "\r\n",
    "# n = int(sys.stdin.readline())\r\n",
    "n = int(input())\r\n",
    "\r\n",
    "for i in range(n) : \r\n",
    "    # command = sys.stdin.readline().split()\r\n",
    "    command = input().split()\r\n",
    "\r\n",
    "    if (command[0] == 'L') & (len(s1) != 0) : \r\n",
    "        s2.append(s1.pop())\r\n",
    "    elif (command[0] == 'D') & (len(s2) != 0) : \r\n",
    "        s1.append(s2.pop()) \r\n",
    "    elif (command[0] == 'B') & (len(s1) != 0) : \r\n",
    "        s1.pop()\r\n",
    "    elif command[0] == 'P' : \r\n",
    "        s1.append(command[1])\r\n",
    "\r\n",
    "print(''.join(s1+list(reversed(s2))))\r\n"
   ],
   "outputs": [
    {
     "output_type": "stream",
     "name": "stdout",
     "text": [
      "yxabc\n"
     ]
    }
   ],
   "metadata": {}
  },
  {
   "cell_type": "markdown",
   "source": [
    "## ???? 이거는 되는거지??  대체 뭐가 다른 것이냐"
   ],
   "metadata": {}
  },
  {
   "cell_type": "code",
   "execution_count": null,
   "source": [
    "import sys \r\n",
    "\r\n",
    "s1 = list(sys.stdin.readline().strip())\r\n",
    "s2 = []\r\n",
    "\r\n",
    "n = int(sys.stdin.readline())\r\n",
    "\r\n",
    "for i in range(n) : \r\n",
    "    com = sys.stdin.readline().strip()\r\n",
    "    if com[0] == 'P' : \r\n",
    "        s1.append(com[2])\r\n",
    "    elif com[0] == 'L' and s1 != [] : \r\n",
    "        s2.append(s1.pop())\r\n",
    "    elif com[0] == 'D' and s2 != [] : \r\n",
    "        s1.append(s2.pop())\r\n",
    "    elif com[0] == 'B' and s1 != [] : \r\n",
    "        s1.pop()\r\n",
    "print(''.join(s1 + list(reversed(s2))))"
   ],
   "outputs": [],
   "metadata": {}
  },
  {
   "cell_type": "code",
   "execution_count": null,
   "source": [
    "# 10845 큐 \r\n",
    "\r\n",
    "from collections import deque \r\n",
    "\r\n",
    "queue = deque()\r\n",
    "\r\n",
    "command = input().split()\r\n",
    "\r\n"
   ],
   "outputs": [],
   "metadata": {}
  }
 ],
 "metadata": {
  "orig_nbformat": 4,
  "language_info": {
   "name": "python",
   "version": "3.7.3",
   "mimetype": "text/x-python",
   "codemirror_mode": {
    "name": "ipython",
    "version": 3
   },
   "pygments_lexer": "ipython3",
   "nbconvert_exporter": "python",
   "file_extension": ".py"
  },
  "kernelspec": {
   "name": "python3",
   "display_name": "Python 3.7.3 64-bit ('base': conda)"
  },
  "interpreter": {
   "hash": "8ca95d9937370959fe53b3f81cea8b7fb579a8b2e40b3ed544c9c6bb9cfba242"
  }
 },
 "nbformat": 4,
 "nbformat_minor": 2
}