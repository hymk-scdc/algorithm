{
 "cells": [
  {
   "cell_type": "code",
   "execution_count": 1,
   "source": [
    "#2557\r\n",
    "print(\"Hello World!\")"
   ],
   "outputs": [
    {
     "output_type": "stream",
     "name": "stdout",
     "text": [
      "Hello World!\n"
     ]
    }
   ],
   "metadata": {}
  },
  {
   "cell_type": "code",
   "execution_count": 4,
   "source": [
    "#1000\r\n",
    "\r\n",
    "a, b = map(int, input().split())\r\n",
    "print(a+b)"
   ],
   "outputs": [
    {
     "output_type": "execute_result",
     "data": {
      "text/plain": [
       "3"
      ]
     },
     "metadata": {},
     "execution_count": 4
    }
   ],
   "metadata": {}
  },
  {
   "cell_type": "code",
   "execution_count": null,
   "source": [
    "# 2558 \r\n",
    "a = int(input())\r\n",
    "b = int(input())\r\n",
    "print(a+b)"
   ],
   "outputs": [],
   "metadata": {}
  },
  {
   "cell_type": "code",
   "execution_count": null,
   "source": [
    "# 10950\r\n",
    "\r\n",
    "T = int(input())\r\n",
    "for i in range(T) : \r\n",
    "    a, b = map(int, input().split())\r\n",
    "    print(a+b)\r\n"
   ],
   "outputs": [],
   "metadata": {}
  },
  {
   "cell_type": "markdown",
   "source": [
    "*10951*"
   ],
   "metadata": {}
  },
  {
   "cell_type": "code",
   "execution_count": 11,
   "source": [
    "# 10951\r\n",
    "try : \r\n",
    "    while True : \r\n",
    "            a, b = map(int, input().split())\r\n",
    "            print(a+b)\r\n",
    "\r\n",
    "except : \r\n",
    "    exit()\r\n",
    "\r\n"
   ],
   "outputs": [
    {
     "output_type": "stream",
     "name": "stdout",
     "text": [
      "2\n",
      "5\n",
      "7\n",
      "17\n",
      "7\n"
     ]
    }
   ],
   "metadata": {}
  },
  {
   "cell_type": "markdown",
   "source": [
    "*10952* 런타임 에러"
   ],
   "metadata": {}
  },
  {
   "cell_type": "code",
   "execution_count": null,
   "source": [
    "# 10952\r\n",
    "# 런타임 에러 \r\n",
    "while True : \r\n",
    "    a, b = map(int, input().split)\r\n",
    "    if (a==0) & (b==0) : \r\n",
    "        break \r\n",
    "    else : \r\n",
    "        print(a+b)"
   ],
   "outputs": [],
   "metadata": {}
  },
  {
   "cell_type": "markdown",
   "source": [
    "왜..? 런타임 에러지?? \r\n",
    "\r\n",
    "### 아 조건을 잘 보자!!!! A의 조건이 0 초과임 \r\n"
   ],
   "metadata": {}
  },
  {
   "cell_type": "code",
   "execution_count": null,
   "source": [
    "# 정답 \r\n",
    "while True : \r\n",
    "    a, b = map(int, input().split())\r\n",
    "    if a != 0 : \r\n",
    "        print(a+b)\r\n",
    "    else : \r\n",
    "        break "
   ],
   "outputs": [],
   "metadata": {}
  },
  {
   "cell_type": "code",
   "execution_count": null,
   "source": [
    "# 10953\r\n",
    "T = int(input())\r\n",
    "\r\n",
    "for i in range(T) : \r\n",
    "    a, b = map(int, input().split(','))\r\n",
    "    print(a+b)\r\n",
    "    "
   ],
   "outputs": [],
   "metadata": {}
  },
  {
   "cell_type": "code",
   "execution_count": 2,
   "source": [
    "# 11021\r\n",
    "T = int(input())\r\n",
    "for i in range(T) : \r\n",
    "    a, b = map(int, input().split())\r\n",
    "    print(\"Case #{}: {}\".format(i+1, a+b))"
   ],
   "outputs": [
    {
     "output_type": "stream",
     "name": "stdout",
     "text": [
      "Case #1: 4\n",
      "Case #2: 10\n",
      "Case #3: 11\n",
      "Case #4: 4\n",
      "Case #5: 8\n"
     ]
    }
   ],
   "metadata": {}
  },
  {
   "cell_type": "code",
   "execution_count": null,
   "source": [
    "# 11022 \r\n",
    "T = int(input())\r\n",
    "for i in range(T) : \r\n",
    "    a, b = map(int, input().split())\r\n",
    "    print(\"Case #{}: {} + {} = {}\".format(i+1, a, b, a+b))"
   ],
   "outputs": [],
   "metadata": {}
  },
  {
   "cell_type": "markdown",
   "source": [
    "*11718*"
   ],
   "metadata": {}
  },
  {
   "cell_type": "code",
   "execution_count": null,
   "source": [
    "# 11718 \r\n",
    "while True : \r\n",
    "    try : \r\n",
    "        print(input())\r\n",
    "    except : \r\n",
    "        exit()"
   ],
   "outputs": [],
   "metadata": {}
  },
  {
   "cell_type": "code",
   "execution_count": null,
   "source": [
    "# 11719\r\n",
    "while True : \r\n",
    "    try : \r\n",
    "        print(input())\r\n",
    "    except : \r\n",
    "        exit()"
   ],
   "outputs": [],
   "metadata": {}
  },
  {
   "cell_type": "code",
   "execution_count": 14,
   "source": [
    "# 11720\r\n",
    "N = int(input())\r\n",
    "n = input()\r\n",
    "li = list(int(i) for i in n)\r\n",
    "sum(li)"
   ],
   "outputs": [
    {
     "output_type": "execute_result",
     "data": {
      "text/plain": [
       "21"
      ]
     },
     "metadata": {},
     "execution_count": 14
    }
   ],
   "metadata": {}
  },
  {
   "cell_type": "code",
   "execution_count": null,
   "source": [],
   "outputs": [],
   "metadata": {}
  },
  {
   "cell_type": "code",
   "execution_count": null,
   "source": [],
   "outputs": [],
   "metadata": {}
  },
  {
   "cell_type": "markdown",
   "source": [],
   "metadata": {}
  }
 ],
 "metadata": {
  "orig_nbformat": 4,
  "language_info": {
   "name": "python",
   "version": "3.7.3",
   "mimetype": "text/x-python",
   "codemirror_mode": {
    "name": "ipython",
    "version": 3
   },
   "pygments_lexer": "ipython3",
   "nbconvert_exporter": "python",
   "file_extension": ".py"
  },
  "kernelspec": {
   "name": "python3",
   "display_name": "Python 3.7.3 64-bit ('base': conda)"
  },
  "interpreter": {
   "hash": "8ca95d9937370959fe53b3f81cea8b7fb579a8b2e40b3ed544c9c6bb9cfba242"
  }
 },
 "nbformat": 4,
 "nbformat_minor": 2
}