{
    "cells": [
        {
            "cell_type": "code",
            "execution_count": null,
            "source": [
                "#2741\r\n",
                "N = int(input())\r\n",
                "\r\n",
                "for i in range(N) : \r\n",
                "    print(i+1)"
            ],
            "outputs": [],
            "metadata": {}
        },
        {
            "cell_type": "code",
            "execution_count": null,
            "source": [
                "# 2742 \r\n",
                "N = int(input())\r\n",
                "for i in range(N) : \r\n",
                "    print(N-i)"
            ],
            "outputs": [],
            "metadata": {}
        },
        {
            "cell_type": "code",
            "execution_count": 14,
            "source": [
                "# 2739\r\n",
                "N = int(input())\r\n",
                "for i in range(1,10) : \r\n",
                "    print(f'{N} * {i} = {N*i}')"
            ],
            "outputs": [
                {
                    "output_type": "stream",
                    "name": "stdout",
                    "text": [
                        "2 * 1 = 2\n",
                        "2 * 2 = 4\n",
                        "2 * 3 = 6\n",
                        "2 * 4 = 8\n",
                        "2 * 5 = 10\n",
                        "2 * 6 = 12\n",
                        "2 * 7 = 14\n",
                        "2 * 8 = 16\n",
                        "2 * 9 = 18\n"
                    ]
                }
            ],
            "metadata": {}
        },
        {
            "cell_type": "code",
            "execution_count": 45,
            "source": [
                "# 1924 \r\n",
                "\r\n",
                "m, d = map(int, input().split())\r\n",
                "\r\n",
                "day = ['SUN', 'MON', 'TUE', 'WED', 'THU', 'FRI', 'SAT']\r\n",
                "\r\n",
                "days = [31, 28, 31, 30, 31, 30, 31, 31 ,30, 31, 30, 31]\r\n",
                "    \r\n",
                "\r\n",
                "if m == 1 : \r\n",
                "    print(day[d%7])\r\n",
                "else : \r\n",
                "    d_sum = sum(days[:m-1])+d\r\n",
                "    print(day[d_sum%7])"
            ],
            "outputs": [
                {
                    "output_type": "stream",
                    "name": "stdout",
                    "text": [
                        "TUE\n"
                    ]
                }
            ],
            "metadata": {}
        },
        {
            "cell_type": "code",
            "execution_count": 50,
            "source": [
                "max(days)"
            ],
            "outputs": [
                {
                    "output_type": "execute_result",
                    "data": {
                        "text/plain": [
                            "31"
                        ]
                    },
                    "metadata": {},
                    "execution_count": 50
                }
            ],
            "metadata": {}
        },
        {
            "cell_type": "code",
            "execution_count": 49,
            "source": [
                "# 8393 \r\n",
                "n = int(input())\r\n",
                "result = 0\r\n",
                "\r\n",
                "for i in range(1, n+1) : \r\n",
                "    result = result + i\r\n",
                "print(result)"
            ],
            "outputs": [
                {
                    "output_type": "stream",
                    "name": "stdout",
                    "text": [
                        "10\n"
                    ]
                }
            ],
            "metadata": {}
        },
        {
            "cell_type": "code",
            "execution_count": 51,
            "source": [
                "# 10818\r\n",
                "\r\n",
                "N = int(input())\r\n",
                "\r\n",
                "num_li = list(map(int, input().split()))\r\n",
                "\r\n",
                "print(min(num_li), end = ' ')\r\n",
                "print(max(num_li))"
            ],
            "outputs": [
                {
                    "output_type": "stream",
                    "name": "stdout",
                    "text": [
                        "7 35\n"
                    ]
                }
            ],
            "metadata": {}
        },
        {
            "cell_type": "code",
            "execution_count": 52,
            "source": [
                "# 2438 \r\n",
                "\r\n",
                "N = int(input())\r\n",
                "\r\n",
                "for i in range(1, N+1) : \r\n",
                "    print('*'*i)"
            ],
            "outputs": [
                {
                    "output_type": "stream",
                    "name": "stdout",
                    "text": [
                        "*\n",
                        "**\n",
                        "***\n",
                        "****\n",
                        "*****\n"
                    ]
                }
            ],
            "metadata": {}
        },
        {
            "cell_type": "code",
            "execution_count": 56,
            "source": [
                "# 2439\r\n",
                "N = int(input())\r\n",
                "\r\n",
                "for i in range(1, N+1) : \r\n",
                "    star = '*'*i\r\n",
                "    print(star.rjust(N))"
            ],
            "outputs": [
                {
                    "output_type": "stream",
                    "name": "stdout",
                    "text": [
                        "    *\n",
                        "   **\n",
                        "  ***\n",
                        " ****\n",
                        "*****\n"
                    ]
                }
            ],
            "metadata": {}
        },
        {
            "cell_type": "code",
            "execution_count": 1,
            "source": [
                "# 2440 \r\n",
                "N = int(input())\r\n",
                "\r\n",
                "for i in range(0, N) : \r\n",
                "    print('*'*(N-i))\r\n"
            ],
            "outputs": [
                {
                    "output_type": "stream",
                    "name": "stdout",
                    "text": [
                        "*****\n",
                        "****\n",
                        "***\n",
                        "**\n",
                        "*\n"
                    ]
                }
            ],
            "metadata": {}
        },
        {
            "cell_type": "code",
            "execution_count": 2,
            "source": [
                "# 2441\r\n",
                "\r\n",
                "N = int(input())\r\n",
                "\r\n",
                "for i in range(0, N) : \r\n",
                "    star = '*'*(N-i)\r\n",
                "    print(star.rjust(N))"
            ],
            "outputs": [
                {
                    "output_type": "stream",
                    "name": "stdout",
                    "text": [
                        "*****\n",
                        " ****\n",
                        "  ***\n",
                        "   **\n",
                        "    *\n"
                    ]
                }
            ],
            "metadata": {}
        },
        {
            "cell_type": "markdown",
            "source": [
                "# 2442 "
            ],
            "metadata": {}
        },
        {
            "cell_type": "code",
            "execution_count": 13,
            "source": [
                "# 2442 \r\n",
                "\r\n",
                "# 출력 형식 error \r\n",
                "\r\n",
                "# N = int(input())\r\n",
                "\r\n",
                "# for i in range(0, N) : \r\n",
                "#     print(' '*(N-i),'*'*(1+2*i))\r\n",
                "\r\n",
                "N = int(input())\r\n",
                "\r\n",
                "for i in range(1, N+1) : \r\n",
                "    star = ' '*(N-i)+'*'*(2*i-1)\r\n",
                "    print(star)\r\n"
            ],
            "outputs": [
                {
                    "output_type": "stream",
                    "name": "stdout",
                    "text": [
                        "    *\n",
                        "   ***\n",
                        "  *****\n",
                        " *******\n",
                        "*********\n"
                    ]
                }
            ],
            "metadata": {}
        },
        {
            "cell_type": "markdown",
            "source": [
                "# 2443"
            ],
            "metadata": {}
        },
        {
            "cell_type": "code",
            "execution_count": 16,
            "source": [
                "# 2443 \r\n",
                "# 출력 형식 error\r\n",
                "\r\n",
                "# N = int(input())\r\n",
                "\r\n",
                "# for i in range(1, N+1) : \r\n",
                "#     star = ' '*i + '*'*(2*(N-i)+1)\r\n",
                "#     print(star)\r\n",
                "\r\n",
                "n = int(input())\r\n",
                "for i in range(n, 0, -1) : \r\n",
                "    print(' '*(n-i) + '*'*(2*i-1))"
            ],
            "outputs": [
                {
                    "output_type": "stream",
                    "name": "stdout",
                    "text": [
                        "*********\n",
                        " *******\n",
                        "  *****\n",
                        "   ***\n",
                        "    *\n"
                    ]
                }
            ],
            "metadata": {}
        },
        {
            "cell_type": "code",
            "execution_count": 18,
            "source": [
                "# 2444\r\n",
                "\r\n",
                "n = int(input())\r\n",
                "for i in range(1, n+1) : \r\n",
                "    print(' '*(n-i) + '*'*(2*i-1))\r\n",
                "for i in range(n-1, 0, -1) : \r\n",
                "    print(' '*(n-i) + '*'*(2*i-1))"
            ],
            "outputs": [
                {
                    "output_type": "stream",
                    "name": "stdout",
                    "text": [
                        "    *\n",
                        "   ***\n",
                        "  *****\n",
                        " *******\n",
                        "*********\n",
                        " *******\n",
                        "  *****\n",
                        "   ***\n",
                        "    *\n"
                    ]
                }
            ],
            "metadata": {}
        },
        {
            "cell_type": "code",
            "execution_count": 20,
            "source": [
                "# 2445 \r\n",
                "n = int(input())\r\n",
                "\r\n",
                "for i in range(1, n+1) : \r\n",
                "    print('*'*i + ' '*(2*(n-i)) + '*'*i)\r\n",
                "for i in range(n-1, 0, -1) : \r\n",
                "    print('*'*i + ' '*(2*(n-i)) + '*'*i)"
            ],
            "outputs": [
                {
                    "output_type": "stream",
                    "name": "stdout",
                    "text": [
                        "*        *\n",
                        "**      **\n",
                        "***    ***\n",
                        "****  ****\n",
                        "**********\n",
                        "****  ****\n",
                        "***    ***\n",
                        "**      **\n",
                        "*        *\n"
                    ]
                }
            ],
            "metadata": {}
        },
        {
            "cell_type": "code",
            "execution_count": 33,
            "source": [
                "# 2446 \r\n",
                "\r\n",
                "n = int(input())\r\n",
                "\r\n",
                "for i in range(n, 0, -1) : \r\n",
                "    print(' '*(n-i)+'*'*(2*i-1))\r\n",
                "for i in range(2, n+1) : \r\n",
                "    print(' '*(n-i)+'*'*(2*i-1))"
            ],
            "outputs": [
                {
                    "output_type": "stream",
                    "name": "stdout",
                    "text": [
                        "*********\n",
                        " *******\n",
                        "  *****\n",
                        "   ***\n",
                        "    *\n",
                        "   ***\n",
                        "  *****\n",
                        " *******\n",
                        "*********\n"
                    ]
                }
            ],
            "metadata": {}
        },
        {
            "cell_type": "code",
            "execution_count": 37,
            "source": [
                "# 2552\r\n",
                "\r\n",
                "n = int(input())\r\n",
                "\r\n",
                "for i in range(1, n+1) : \r\n",
                "    star = '*'*i\r\n",
                "    print(star.rjust(n))\r\n",
                "for i in range(n-1, 0, -1) : \r\n",
                "    star = '*'*i\r\n",
                "    print(star.rjust(n))   "
            ],
            "outputs": [
                {
                    "output_type": "stream",
                    "name": "stdout",
                    "text": [
                        "  *\n",
                        " **\n",
                        "***\n",
                        " **\n",
                        "  *\n"
                    ]
                }
            ],
            "metadata": {}
        },
        {
            "cell_type": "code",
            "execution_count": 42,
            "source": [
                "# 10991 \r\n",
                "\r\n",
                "n = int(input())\r\n",
                "\r\n",
                "for i in range(1, n+1) : \r\n",
                "    if i ==1 : \r\n",
                "        print(' '*(n-i)+'*')\r\n",
                "    else : \r\n",
                "        print(' '*(n-i)+ '*'+' *'*(i-1))"
            ],
            "outputs": [
                {
                    "output_type": "stream",
                    "name": "stdout",
                    "text": [
                        "   *\n",
                        "  * *\n",
                        " * * *\n",
                        "* * * *\n"
                    ]
                }
            ],
            "metadata": {}
        },
        {
            "cell_type": "code",
            "execution_count": 43,
            "source": [
                "# 10992\r\n",
                "\r\n",
                "n = int(input())\r\n",
                "for i in range(1, n+1) :\r\n",
                "    if i == 1 : \r\n",
                "        print(' '*(n-i)+'*')\r\n",
                "    elif i != n : \r\n",
                "        print(' '*(n-i)+'*' + ' '*(2*i-3)+ '*')\r\n",
                "    else : \r\n",
                "        print('*'*(2*i-1))"
            ],
            "outputs": [
                {
                    "output_type": "stream",
                    "name": "stdout",
                    "text": [
                        "   *\n",
                        "  * *\n",
                        " *   *\n",
                        "*******\n"
                    ]
                }
            ],
            "metadata": {}
        },
        {
            "cell_type": "code",
            "execution_count": null,
            "source": [],
            "outputs": [],
            "metadata": {}
        }
    ],
    "metadata": {
        "orig_nbformat": 4,
        "language_info": {
            "name": "python",
            "version": "3.7.3",
            "mimetype": "text/x-python",
            "codemirror_mode": {
                "name": "ipython",
                "version": 3
            },
            "pygments_lexer": "ipython3",
            "nbconvert_exporter": "python",
            "file_extension": ".py"
        },
        "kernelspec": {
            "name": "python3",
            "display_name": "Python 3.7.3 64-bit ('base': conda)"
        },
        "interpreter": {
            "hash": "8ca95d9937370959fe53b3f81cea8b7fb579a8b2e40b3ed544c9c6bb9cfba242"
        }
    },
    "nbformat": 4,
    "nbformat_minor": 2
}